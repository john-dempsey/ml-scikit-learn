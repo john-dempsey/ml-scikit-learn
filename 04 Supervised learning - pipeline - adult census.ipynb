{
 "cells": [
  {
   "cell_type": "code",
   "execution_count": 1,
   "id": "fac45780-85bb-4dc7-afd1-34fe65ee6de8",
   "metadata": {},
   "outputs": [],
   "source": [
    "import pandas as pd\n",
    "\n",
    "from sklearn.model_selection import train_test_split\n",
    "from sklearn.preprocessing import MinMaxScaler\n",
    "from sklearn.neighbors import KNeighborsClassifier\n",
    "from sklearn.pipeline import make_pipeline"
   ]
  },
  {
   "cell_type": "code",
   "execution_count": 2,
   "id": "0390de25-d398-4d47-9dd7-18040efb1b57",
   "metadata": {},
   "outputs": [],
   "source": [
    "adult_census = pd.read_csv(\"datasets/adult-census.csv\")\n",
    "feature_names = [\n",
    "    \"age\",\n",
    "    \"capital-gain\",\n",
    "    \"capital-loss\",\n",
    "    \"hours-per-week\"\n",
    "]\n",
    "target_name = \"class\"\n",
    "\n",
    "X = adult_census[feature_names]\n",
    "y = adult_census[target_name]\n",
    "\n",
    "X_train, X_test, y_train, y_test = train_test_split(X, y, random_state=0)"
   ]
  },
  {
   "cell_type": "code",
   "execution_count": 3,
   "id": "b64ed741-6bca-4ac9-87c4-da0e300114ac",
   "metadata": {},
   "outputs": [
    {
     "data": {
      "text/plain": [
       "0.7817541560887724"
      ]
     },
     "execution_count": 3,
     "metadata": {},
     "output_type": "execute_result"
    }
   ],
   "source": [
    "scaler = MinMaxScaler()\n",
    "scaler.set_output(transform=\"pandas\")\n",
    "\n",
    "model = KNeighborsClassifier()\n",
    "\n",
    "pipeline = make_pipeline(scaler, model)\n",
    "\n",
    "pipeline.fit(X_train, y_train)\n",
    "model.score(X_test, y_test)"
   ]
  },
  {
   "cell_type": "code",
   "execution_count": null,
   "id": "4af7512e",
   "metadata": {},
   "outputs": [],
   "source": []
  }
 ],
 "metadata": {
  "kernelspec": {
   "display_name": "Python 3 (ipykernel)",
   "language": "python",
   "name": "python3"
  },
  "language_info": {
   "codemirror_mode": {
    "name": "ipython",
    "version": 3
   },
   "file_extension": ".py",
   "mimetype": "text/x-python",
   "name": "python",
   "nbconvert_exporter": "python",
   "pygments_lexer": "ipython3",
   "version": "3.11.6"
  }
 },
 "nbformat": 4,
 "nbformat_minor": 5
}
